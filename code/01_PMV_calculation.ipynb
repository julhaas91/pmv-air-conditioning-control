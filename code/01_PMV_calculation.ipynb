{
 "cells": [
  {
   "cell_type": "markdown",
   "metadata": {},
   "source": [
    "# Calculate PMV values (V1)"
   ]
  },
  {
   "cell_type": "code",
   "execution_count": 1,
   "metadata": {},
   "outputs": [],
   "source": [
    "import warnings\n",
    "warnings.filterwarnings('ignore')"
   ]
  },
  {
   "cell_type": "code",
   "execution_count": 2,
   "metadata": {},
   "outputs": [
    {
     "data": {
      "text/plain": [
       "'C:\\\\Users\\\\juliu\\\\Desktop\\\\pmv-air-conditioning-control\\\\code\\\\src'"
      ]
     },
     "execution_count": 2,
     "metadata": {},
     "output_type": "execute_result"
    }
   ],
   "source": [
    "import os,sys,inspect\n",
    "current_dir = os.path.dirname(os.path.abspath(inspect.getfile(inspect.currentframe())))\n",
    "parent_dir = os.path.dirname(current_dir)\n",
    "sys.path.insert(0, parent_dir)\n",
    "\n",
    "import pandas as pd\n",
    "import numpy as np\n",
    "import matplotlib.pyplot as plt\n",
    "\n",
    "import datetime\n",
    "import time\n",
    "\n",
    "current_dir"
   ]
  },
  {
   "cell_type": "code",
   "execution_count": 3,
   "metadata": {},
   "outputs": [],
   "source": [
    "from pmv_formula import calculate_PMV_value"
   ]
  },
  {
   "cell_type": "code",
   "execution_count": 4,
   "metadata": {},
   "outputs": [],
   "source": [
    "PMV, PPD = calculate_PMV_value(Temp = 24, MeanR = 24, VEL = 0.45 , hum = 45, MET = 1.0, CLO = 1.0, EXW = 0.0, WV = 0.0)"
   ]
  },
  {
   "cell_type": "code",
   "execution_count": 5,
   "metadata": {},
   "outputs": [
    {
     "name": "stdout",
     "output_type": "stream",
     "text": [
      "-0.3260912060822618\n"
     ]
    }
   ],
   "source": [
    "print(PMV)"
   ]
  },
  {
   "cell_type": "code",
   "execution_count": 6,
   "metadata": {},
   "outputs": [
    {
     "name": "stdout",
     "output_type": "stream",
     "text": [
      "7.211077770619937\n"
     ]
    }
   ],
   "source": [
    "print(PPD)"
   ]
  },
  {
   "cell_type": "code",
   "execution_count": 7,
   "metadata": {},
   "outputs": [
    {
     "data": {
      "text/html": [
       "<div>\n",
       "<style scoped>\n",
       "    .dataframe tbody tr th:only-of-type {\n",
       "        vertical-align: middle;\n",
       "    }\n",
       "\n",
       "    .dataframe tbody tr th {\n",
       "        vertical-align: top;\n",
       "    }\n",
       "\n",
       "    .dataframe thead th {\n",
       "        text-align: right;\n",
       "    }\n",
       "</style>\n",
       "<table border=\"1\" class=\"dataframe\">\n",
       "  <thead>\n",
       "    <tr style=\"text-align: right;\">\n",
       "      <th></th>\n",
       "      <th>entry_id</th>\n",
       "      <th>Temperature</th>\n",
       "      <th>Humidity</th>\n",
       "      <th>Air_velocity</th>\n",
       "      <th>met</th>\n",
       "      <th>clo</th>\n",
       "      <th>PMV</th>\n",
       "      <th>PPD</th>\n",
       "    </tr>\n",
       "  </thead>\n",
       "  <tbody>\n",
       "  </tbody>\n",
       "</table>\n",
       "</div>"
      ],
      "text/plain": [
       "Empty DataFrame\n",
       "Columns: [entry_id, Temperature, Humidity, Air_velocity, met, clo, PMV, PPD]\n",
       "Index: []"
      ]
     },
     "execution_count": 7,
     "metadata": {},
     "output_type": "execute_result"
    }
   ],
   "source": [
    "# create dataframe for new PMV values\n",
    "\n",
    "data = pd.DataFrame()\n",
    "data['entry_id'] = pd.Series()\n",
    "data['Temperature'] = pd.Series()\n",
    "data['Humidity'] = pd.Series()\n",
    "data['Air_velocity'] = pd.Series()\n",
    "#data['mrt'] = pd.Series()\n",
    "data['met'] = pd.Series()\n",
    "data['clo'] = pd.Series()\n",
    "data['PMV'] = pd.Series()\n",
    "data['PPD'] = pd.Series()\n",
    "\n",
    "# data.set_index('entry_id', inplace=True)\n",
    "\n",
    "# data"
   ]
  },
  {
   "cell_type": "code",
   "execution_count": 8,
   "metadata": {},
   "outputs": [
    {
     "name": "stdout",
     "output_type": "stream",
     "text": [
      "10000\n",
      "20000\n",
      "30000\n",
      "40000\n",
      "50000\n",
      "60000\n",
      "70000\n",
      "80000\n",
      "90000\n",
      "100000\n",
      "107866\n",
      "Calculation time: 498.55 sec\n"
     ]
    }
   ],
   "source": [
    "# GENERATION OF TABLE WITH PMV DATA (calculated by Fanger Equation for Thermal Comfort)\n",
    "\n",
    "start_time = time.time()\n",
    "\n",
    "# start, end, step\n",
    "entry_id = 1\n",
    "\n",
    "# values for function call that we don't use atm\n",
    "external_work = 0\n",
    "water_vapour_pressure = 0\n",
    "\n",
    "# temperature\n",
    "temp_min = 16\n",
    "temp_max = 30\n",
    "temp_step = 0.1\n",
    "\n",
    "# humidity\n",
    "hum_min = 30\n",
    "hum_max = 80\n",
    "hum_step = 1\n",
    "\n",
    "# air velocity\n",
    "air_vel_min = 0\n",
    "air_vel_max = 0.7\n",
    "air_vel_step = 0.05\n",
    "\n",
    "# met \n",
    "met_min = 1 #0.5\n",
    "met_max = 1 #2\n",
    "met_step = 1 #0.5\n",
    "\n",
    "# clo\n",
    "clo_min = 1 #0.5\n",
    "clo_max = 1 #2\n",
    "clo_step = 1 #0.5\n",
    "\n",
    "\n",
    "\n",
    "for temp_val in np.arange(temp_min, temp_max + temp_step, temp_step):\n",
    "    for hum_val in np.arange(hum_min, hum_max + hum_step, hum_step):\n",
    "        for air_vel_val in np.arange(air_vel_min, air_vel_max + air_vel_step, air_vel_step):\n",
    "            for met_val in np.arange(met_min, met_max + met_step, met_step):\n",
    "                for clo_val in np.arange(clo_min, clo_max + clo_step, clo_step):\n",
    "                    \n",
    "                    PMV_val, PPD_val = calculate_PMV_value(Temp = temp_val, MeanR = temp_val, VEL = air_vel_val , hum = hum_val, MET = met_val, CLO = clo_val, EXW = external_work, WV = water_vapour_pressure)\n",
    "                    \n",
    "                    data.at[entry_id - 1, 'entry_id'] = entry_id\n",
    "                    data.at[entry_id - 1, 'Temperature'] = temp_val\n",
    "                    data.at[entry_id - 1, 'Humidity'] = hum_val\n",
    "                    data.at[entry_id - 1, 'Air_velocity'] = air_vel_val\n",
    "                    data.at[entry_id - 1, 'met'] = met_val\n",
    "                    data.at[entry_id - 1, 'clo'] = clo_val\n",
    "                    data.at[entry_id - 1, 'PMV'] = PMV_val\n",
    "                    data.at[entry_id - 1, 'PPD'] = PPD_val\n",
    "                    \n",
    "                    \n",
    "                    if not(entry_id % 10000):\n",
    "                        print(entry_id)\n",
    "                    entry_id += 1\n",
    "                   \n",
    "\n",
    "    \n",
    "data.set_index('entry_id', inplace=True)\n",
    "\n",
    "print (entry_id)\n",
    "\n",
    "stop_time = time.time()\n",
    "\n",
    "time = stop_time-start_time\n",
    "\n",
    "print('Calculation time: ' + str(round(time, 2)) + ' sec')"
   ]
  },
  {
   "cell_type": "code",
   "execution_count": 11,
   "metadata": {},
   "outputs": [
    {
     "data": {
      "text/html": [
       "<div>\n",
       "<style scoped>\n",
       "    .dataframe tbody tr th:only-of-type {\n",
       "        vertical-align: middle;\n",
       "    }\n",
       "\n",
       "    .dataframe tbody tr th {\n",
       "        vertical-align: top;\n",
       "    }\n",
       "\n",
       "    .dataframe thead th {\n",
       "        text-align: right;\n",
       "    }\n",
       "</style>\n",
       "<table border=\"1\" class=\"dataframe\">\n",
       "  <thead>\n",
       "    <tr style=\"text-align: right;\">\n",
       "      <th></th>\n",
       "      <th>Temperature</th>\n",
       "      <th>Humidity</th>\n",
       "      <th>Air_velocity</th>\n",
       "      <th>met</th>\n",
       "      <th>clo</th>\n",
       "      <th>PMV</th>\n",
       "      <th>PPD</th>\n",
       "    </tr>\n",
       "    <tr>\n",
       "      <th>entry_id</th>\n",
       "      <th></th>\n",
       "      <th></th>\n",
       "      <th></th>\n",
       "      <th></th>\n",
       "      <th></th>\n",
       "      <th></th>\n",
       "      <th></th>\n",
       "    </tr>\n",
       "  </thead>\n",
       "  <tbody>\n",
       "    <tr>\n",
       "      <th>1.0</th>\n",
       "      <td>16.0</td>\n",
       "      <td>30.0</td>\n",
       "      <td>0.00</td>\n",
       "      <td>1.0</td>\n",
       "      <td>1.0</td>\n",
       "      <td>-2.12</td>\n",
       "      <td>81.83</td>\n",
       "    </tr>\n",
       "    <tr>\n",
       "      <th>2.0</th>\n",
       "      <td>16.0</td>\n",
       "      <td>30.0</td>\n",
       "      <td>0.05</td>\n",
       "      <td>1.0</td>\n",
       "      <td>1.0</td>\n",
       "      <td>-2.12</td>\n",
       "      <td>81.83</td>\n",
       "    </tr>\n",
       "    <tr>\n",
       "      <th>3.0</th>\n",
       "      <td>16.0</td>\n",
       "      <td>30.0</td>\n",
       "      <td>0.10</td>\n",
       "      <td>1.0</td>\n",
       "      <td>1.0</td>\n",
       "      <td>-2.12</td>\n",
       "      <td>81.83</td>\n",
       "    </tr>\n",
       "    <tr>\n",
       "      <th>4.0</th>\n",
       "      <td>16.0</td>\n",
       "      <td>30.0</td>\n",
       "      <td>0.15</td>\n",
       "      <td>1.0</td>\n",
       "      <td>1.0</td>\n",
       "      <td>-2.28</td>\n",
       "      <td>87.72</td>\n",
       "    </tr>\n",
       "    <tr>\n",
       "      <th>5.0</th>\n",
       "      <td>16.0</td>\n",
       "      <td>30.0</td>\n",
       "      <td>0.20</td>\n",
       "      <td>1.0</td>\n",
       "      <td>1.0</td>\n",
       "      <td>-2.43</td>\n",
       "      <td>91.76</td>\n",
       "    </tr>\n",
       "    <tr>\n",
       "      <th>...</th>\n",
       "      <td>...</td>\n",
       "      <td>...</td>\n",
       "      <td>...</td>\n",
       "      <td>...</td>\n",
       "      <td>...</td>\n",
       "      <td>...</td>\n",
       "      <td>...</td>\n",
       "    </tr>\n",
       "    <tr>\n",
       "      <th>107861.0</th>\n",
       "      <td>30.0</td>\n",
       "      <td>80.0</td>\n",
       "      <td>0.50</td>\n",
       "      <td>1.0</td>\n",
       "      <td>1.0</td>\n",
       "      <td>1.97</td>\n",
       "      <td>75.27</td>\n",
       "    </tr>\n",
       "    <tr>\n",
       "      <th>107862.0</th>\n",
       "      <td>30.0</td>\n",
       "      <td>80.0</td>\n",
       "      <td>0.55</td>\n",
       "      <td>1.0</td>\n",
       "      <td>1.0</td>\n",
       "      <td>1.96</td>\n",
       "      <td>74.73</td>\n",
       "    </tr>\n",
       "    <tr>\n",
       "      <th>107863.0</th>\n",
       "      <td>30.0</td>\n",
       "      <td>80.0</td>\n",
       "      <td>0.60</td>\n",
       "      <td>1.0</td>\n",
       "      <td>1.0</td>\n",
       "      <td>1.95</td>\n",
       "      <td>74.24</td>\n",
       "    </tr>\n",
       "    <tr>\n",
       "      <th>107864.0</th>\n",
       "      <td>30.0</td>\n",
       "      <td>80.0</td>\n",
       "      <td>0.65</td>\n",
       "      <td>1.0</td>\n",
       "      <td>1.0</td>\n",
       "      <td>1.94</td>\n",
       "      <td>73.79</td>\n",
       "    </tr>\n",
       "    <tr>\n",
       "      <th>107865.0</th>\n",
       "      <td>30.0</td>\n",
       "      <td>80.0</td>\n",
       "      <td>0.70</td>\n",
       "      <td>1.0</td>\n",
       "      <td>1.0</td>\n",
       "      <td>1.93</td>\n",
       "      <td>73.36</td>\n",
       "    </tr>\n",
       "  </tbody>\n",
       "</table>\n",
       "<p>107865 rows × 7 columns</p>\n",
       "</div>"
      ],
      "text/plain": [
       "          Temperature  Humidity  Air_velocity  met  clo   PMV    PPD\n",
       "entry_id                                                            \n",
       "1.0              16.0      30.0          0.00  1.0  1.0 -2.12  81.83\n",
       "2.0              16.0      30.0          0.05  1.0  1.0 -2.12  81.83\n",
       "3.0              16.0      30.0          0.10  1.0  1.0 -2.12  81.83\n",
       "4.0              16.0      30.0          0.15  1.0  1.0 -2.28  87.72\n",
       "5.0              16.0      30.0          0.20  1.0  1.0 -2.43  91.76\n",
       "...               ...       ...           ...  ...  ...   ...    ...\n",
       "107861.0         30.0      80.0          0.50  1.0  1.0  1.97  75.27\n",
       "107862.0         30.0      80.0          0.55  1.0  1.0  1.96  74.73\n",
       "107863.0         30.0      80.0          0.60  1.0  1.0  1.95  74.24\n",
       "107864.0         30.0      80.0          0.65  1.0  1.0  1.94  73.79\n",
       "107865.0         30.0      80.0          0.70  1.0  1.0  1.93  73.36\n",
       "\n",
       "[107865 rows x 7 columns]"
      ]
     },
     "execution_count": 11,
     "metadata": {},
     "output_type": "execute_result"
    }
   ],
   "source": [
    "data.round(2)"
   ]
  },
  {
   "cell_type": "code",
   "execution_count": 14,
   "metadata": {},
   "outputs": [],
   "source": [
    "data.round(2).to_csv('output_PMV_PPD_data.csv')\n",
    "\n",
    "# data.round(2).to_csv(str(datetime.date.today()) + '_output_PMV_PPD_data.csv')"
   ]
  }
 ],
 "metadata": {
  "kernelspec": {
   "display_name": "Python 3",
   "language": "python",
   "name": "python3"
  },
  "language_info": {
   "codemirror_mode": {
    "name": "ipython",
    "version": 3
   },
   "file_extension": ".py",
   "mimetype": "text/x-python",
   "name": "python",
   "nbconvert_exporter": "python",
   "pygments_lexer": "ipython3",
   "version": "3.8.5"
  }
 },
 "nbformat": 4,
 "nbformat_minor": 4
}
